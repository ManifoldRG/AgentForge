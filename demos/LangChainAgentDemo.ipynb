{
  "nbformat": 4,
  "nbformat_minor": 0,
  "metadata": {
    "colab": {
      "provenance": []
    },
    "kernelspec": {
      "name": "python3",
      "display_name": "Python 3"
    },
    "language_info": {
      "name": "python"
    }
  },
  "cells": [
    {
      "cell_type": "code",
      "source": [
        "import os\n",
        "\n",
        "# get from https://platform.openai.com/\n",
        "os.environ[\"OPENAI_API_KEY\"] = \"\"\n",
        "\n",
        "# get from https://nla.zapier.com/credentials/: \n",
        "os.environ[\"ZAPIER_NLA_API_KEY\"] = \"\""
      ],
      "metadata": {
        "id": "shLrtSuMLBLL"
      },
      "execution_count": 105,
      "outputs": []
    },
    {
      "cell_type": "code",
      "source": [
        "from langchain.llms import OpenAI\n",
        "from langchain.agents import initialize_agent\n",
        "from langchain.agents.agent_toolkits import ZapierToolkit\n",
        "from langchain.agents import AgentType\n",
        "from langchain.utilities.zapier import ZapierNLAWrapper"
      ],
      "metadata": {
        "id": "sRdVZNZOL1mm"
      },
      "execution_count": 113,
      "outputs": []
    },
    {
      "cell_type": "code",
      "source": [
        "## set up actions through https://nla.zapier.com/docs/authentication/#server-side\n",
        "\n",
        "actions = ZapierNLAWrapper().list()"
      ],
      "metadata": {
        "id": "eVLRZPV3NoIK"
      },
      "execution_count": 114,
      "outputs": []
    },
    {
      "cell_type": "code",
      "source": [
        "actions"
      ],
      "metadata": {
        "colab": {
          "base_uri": "https://localhost:8080/"
        },
        "id": "-jp0bGO3SgNe",
        "outputId": "55454e04-fa86-46c9-a17c-c9482a71ae82"
      },
      "execution_count": 115,
      "outputs": [
        {
          "output_type": "execute_result",
          "data": {
            "text/plain": [
              "[{'id': '01H0XQ3NHR4CBAANTZWFEAPST3',\n",
              "  'operation_id': 'gmail_send_email_8ad26a0',\n",
              "  'description': 'Gmail: Send Email',\n",
              "  'params': {'instructions': 'str',\n",
              "   'Subject': 'str',\n",
              "   'To': 'str',\n",
              "   'Body': 'str',\n",
              "   'Cc': 'str'}},\n",
              " {'id': '01H0XPZ6PKY9QY5XAPC15P8Q95',\n",
              "  'operation_id': 'gmail_create_draft_0fec696',\n",
              "  'description': 'Gmail: Create Draft',\n",
              "  'params': {'instructions': 'str',\n",
              "   'Subject': 'str',\n",
              "   'To': 'str',\n",
              "   'Body': 'str'}},\n",
              " {'id': '01H0XMMNQYBA0MVVVRXS3KW9ZE',\n",
              "  'operation_id': 'gmail_reply_to_email_6202139',\n",
              "  'description': 'Gmail: Reply to Email',\n",
              "  'params': {'instructions': 'str',\n",
              "   'Thread': 'str',\n",
              "   'To': 'str',\n",
              "   'Body': 'str'}},\n",
              " {'id': '01H0XMM6FGXR9QJ30GXA500DDS',\n",
              "  'operation_id': 'gmail_find_email_7ec4a8e',\n",
              "  'description': 'Gmail: Find Email',\n",
              "  'params': {'instructions': 'str', 'Search_String': 'str'}},\n",
              " {'id': '01H0XMJDKD9QNVT0YR61XMM2QH',\n",
              "  'operation_id': 'gmail_create_draft_reply_3dd195e',\n",
              "  'description': 'Gmail: Create Draft Reply',\n",
              "  'params': {'instructions': 'str',\n",
              "   'Thread': 'str',\n",
              "   'To': 'str',\n",
              "   'Body': 'str'}}]"
            ]
          },
          "metadata": {},
          "execution_count": 115
        }
      ]
    },
    {
      "cell_type": "code",
      "source": [
        "llm = OpenAI()\n",
        "zapier = ZapierNLAWrapper()\n",
        "toolkit = ZapierToolkit.from_zapier_nla_wrapper(zapier)\n",
        "agent = initialize_agent(toolkit.get_tools(), llm, agent=AgentType.ZERO_SHOT_REACT_DESCRIPTION, verbose=True)"
      ],
      "metadata": {
        "id": "mnlPlSvqShYv"
      },
      "execution_count": 116,
      "outputs": []
    },
    {
      "cell_type": "code",
      "source": [
        "agent.run(\"Find the last email I received. Create a draft reply with 'received' as 'Body'\")"
      ],
      "metadata": {
        "colab": {
          "base_uri": "https://localhost:8080/",
          "height": 316
        },
        "id": "PQn_F6URSsxM",
        "outputId": "f6fc6f4d-b953-442c-fb31-cfb14715d7c6"
      },
      "execution_count": 117,
      "outputs": [
        {
          "output_type": "stream",
          "name": "stdout",
          "text": [
            "\n",
            "\n",
            "\u001b[1m> Entering new AgentExecutor chain...\u001b[0m\n",
            "\u001b[32;1m\u001b[1;3m I need to find the last email I received and then create a draft reply with 'received' as 'Body'\n",
            "Action: Gmail: Find Email\n",
            "Action Input: Find the last email I received\u001b[0m\n",
            "Observation: \u001b[31;1m\u001b[1;3m{\"from__email\": \"helenlu66@gmail.com\", \"message_url\": \"https://mail.google.com/mail/u/0/#inbox/1883b6821abe7707\", \"to__emails\": \"hluaitest@gmail.com\", \"date\": \"Sat, 20 May 2023 16:04:07 -0700\", \"attachment_count\": \"0\", \"from__name\": \"helen lu\", \"raw__payload__headers__Delivered-To\": \"hluaitest@gmail.com\", \"subject\": \"Theory of Mind in LLMs\", \"message_id\": \"1883b6821abe7707\", \"labels\": \"IMPORTANT, CATEGORY_PERSONAL, INBOX\", \"raw__payload__headers__Message-ID\": \"<CAFoUN9iXMukNOPaUkVfhzNrY3J2JSoQ9S0Bp+HFKWVkBpZzSJA@mail.gmail.com>\", \"body_html\": \"Stanford researcher finds LLMs have ToM. Challenged by Sap, Ullman, Whang in NYT.\"}\u001b[0m\n",
            "Thought:\u001b[32;1m\u001b[1;3m Now I have the email I need to reply to, I should create a draft reply\n",
            "Action: Gmail: Create Draft Reply\n",
            "Action Input: Create a draft reply with 'received' as 'Body'\u001b[0m\n",
            "Observation: \u001b[36;1m\u001b[1;3m{\"labelIds\": \"DRAFT\", \"threadId\": \"1883d78d726ca0b5\"}\u001b[0m\n",
            "Thought:\u001b[32;1m\u001b[1;3m I have successfully created a draft reply, I now know the final answer\n",
            "Final Answer: A draft reply with 'received' as 'Body' has been created in Gmail.\u001b[0m\n",
            "\n",
            "\u001b[1m> Finished chain.\u001b[0m\n"
          ]
        },
        {
          "output_type": "execute_result",
          "data": {
            "text/plain": [
              "\"A draft reply with 'received' as 'Body' has been created in Gmail.\""
            ],
            "application/vnd.google.colaboratory.intrinsic+json": {
              "type": "string"
            }
          },
          "metadata": {},
          "execution_count": 117
        }
      ]
    },
    {
      "cell_type": "code",
      "source": [],
      "metadata": {
        "id": "s8KMMR59_3j8"
      },
      "execution_count": null,
      "outputs": []
    }
  ]
}